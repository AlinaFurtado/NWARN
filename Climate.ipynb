{
  "nbformat": 4,
  "nbformat_minor": 0,
  "metadata": {
    "colab": {
      "name": "Climate.ipynb",
      "provenance": [],
      "collapsed_sections": [],
      "include_colab_link": true
    },
    "kernelspec": {
      "name": "python3",
      "display_name": "Python 3"
    }
  },
  "cells": [
    {
      "cell_type": "markdown",
      "metadata": {
        "id": "view-in-github",
        "colab_type": "text"
      },
      "source": [
        "<a href=\"https://colab.research.google.com/github/AlinaFurtado/object/blob/master/Climate.ipynb\" target=\"_parent\"><img src=\"https://colab.research.google.com/assets/colab-badge.svg\" alt=\"Open In Colab\"/></a>"
      ]
    },
    {
      "cell_type": "code",
      "metadata": {
        "id": "hoPr3bsP8I_x",
        "colab_type": "code",
        "colab": {
          "base_uri": "https://localhost:8080/",
          "height": 70
        },
        "outputId": "e2bfb131-75ab-474c-be90-d245451743bd"
      },
      "source": [
        "import pandas as pd  \n",
        "import numpy as np  \n",
        "import matplotlib.pyplot as plt  \n",
        "import seaborn as seabornInstance \n",
        "import sklearn as sk \n",
        "from sklearn.model_selection import train_test_split \n",
        "from sklearn.linear_model import LinearRegression\n",
        "from sklearn import metrics\n",
        "%matplotlib inline\n"
      ],
      "execution_count": null,
      "outputs": [
        {
          "output_type": "stream",
          "text": [
            "/usr/local/lib/python3.6/dist-packages/statsmodels/tools/_testing.py:19: FutureWarning: pandas.util.testing is deprecated. Use the functions in the public API at pandas.testing instead.\n",
            "  import pandas.util.testing as tm\n"
          ],
          "name": "stderr"
        }
      ]
    },
    {
      "cell_type": "code",
      "metadata": {
        "id": "lfRGHudn8T3T",
        "colab_type": "code",
        "colab": {}
      },
      "source": [
        "data = pd.read_csv(\"weather.csv\") \n",
        "data = data.drop(['Events', 'Date', 'SeaLevelPressureHighInches',  \n",
        "                  'SeaLevelPressureLowInches'], axis = 1) \n",
        "data = data.replace('T', 0.0) \n",
        "data = data.replace('-', 0.0) \n",
        "data.to_csv('final.csv') \n"
      ],
      "execution_count": null,
      "outputs": []
    },
    {
      "cell_type": "code",
      "metadata": {
        "id": "oENtAmQD-V1I",
        "colab_type": "code",
        "colab": {}
      },
      "source": [
        "data = pd.read_csv(\"final.csv\")  \n",
        "X = data.drop(['PrecipitationSumInches'], axis = 1) \n",
        "Y = data['PrecipitationSumInches'] \n",
        "Y = Y.values.reshape(-1, 1) \n",
        "\n"
      ],
      "execution_count": null,
      "outputs": []
    },
    {
      "cell_type": "markdown",
      "metadata": {
        "id": "KXn1mm9SUW02",
        "colab_type": "text"
      },
      "source": [
        ""
      ]
    },
    {
      "cell_type": "code",
      "metadata": {
        "id": "v7NJvl5L8bqU",
        "colab_type": "code",
        "colab": {}
      },
      "source": [
        "X_train, X_test, Y_train, Y_test = train_test_split(X, Y, test_size=0.2, random_state=0)"
      ],
      "execution_count": null,
      "outputs": []
    },
    {
      "cell_type": "code",
      "metadata": {
        "id": "bh6nTlXJ_yNL",
        "colab_type": "code",
        "colab": {
          "base_uri": "https://localhost:8080/",
          "height": 33
        },
        "outputId": "0078dafc-5147-4bd9-b489-c13e2c17576f"
      },
      "source": [
        "#regression model created\n",
        "regressor = LinearRegression()  \n",
        "regressor.fit(X_train, Y_train)"
      ],
      "execution_count": null,
      "outputs": [
        {
          "output_type": "execute_result",
          "data": {
            "text/plain": [
              "LinearRegression(copy_X=True, fit_intercept=True, n_jobs=None, normalize=False)"
            ]
          },
          "metadata": {
            "tags": []
          },
          "execution_count": 5
        }
      ]
    },
    {
      "cell_type": "code",
      "metadata": {
        "id": "80UfCafmAAXW",
        "colab_type": "code",
        "colab": {
          "base_uri": "https://localhost:8080/",
          "height": 33
        },
        "outputId": "2b88137c-c06f-4596-eddb-51a5d60a5702"
      },
      "source": [
        "#giving input\n",
        "inp1 = np.array([[74], [60], [45], [67], [49], [43], [33], [45], \n",
        "                [57], [29.68], [10], [7], [2], [0], [20], [4], [31]]) \n",
        "inp1 = inp1.reshape(1, -1) \n",
        "prediction1=regressor.predict(inp1)\n",
        "print('The precipitation in inches for the input is:', prediction1) "
      ],
      "execution_count": null,
      "outputs": [
        {
          "output_type": "stream",
          "text": [
            "The precipitation in inches for the input is: [[1.40816201]]\n"
          ],
          "name": "stdout"
        }
      ]
    },
    {
      "cell_type": "code",
      "metadata": {
        "id": "cyZtI8giB_8H",
        "colab_type": "code",
        "colab": {
          "base_uri": "https://localhost:8080/",
          "height": 33
        },
        "outputId": "ebd290fb-2f1c-4f82-b8d9-73b130ffec2e"
      },
      "source": [
        "\n",
        "real_time_value1=1.37001342\n",
        "if(prediction1-real_time_value1<0.05 and real_time_value1>1):\n",
        "  print(\"Heavy rainfall! Flood alert!\")\n"
      ],
      "execution_count": null,
      "outputs": [
        {
          "output_type": "stream",
          "text": [
            "Heavy rainfall! Flood alert!\n"
          ],
          "name": "stdout"
        }
      ]
    },
    {
      "cell_type": "code",
      "metadata": {
        "id": "6YfXEa5t1s_c",
        "colab_type": "code",
        "colab": {
          "base_uri": "https://localhost:8080/",
          "height": 33
        },
        "outputId": "62d870dd-7587-41d9-feff-3cbeb55f6ed5"
      },
      "source": [
        "inp2 = np.array([[40], [27], [26], [31], [24], [22], [67], [50], \n",
        "                [43], [30.03], [10], [10], [5], [15], [7], [4], [41]]) \n",
        "inp2 = inp2.reshape(1, -1) \n",
        "prediction2=regressor.predict(inp2)\n",
        "print('The precipitation in inches for the input is:', prediction2) "
      ],
      "execution_count": null,
      "outputs": [
        {
          "output_type": "stream",
          "text": [
            "The precipitation in inches for the input is: [[0.65911097]]\n"
          ],
          "name": "stdout"
        }
      ]
    },
    {
      "cell_type": "code",
      "metadata": {
        "id": "d1LiqVB9DZGR",
        "colab_type": "code",
        "colab": {
          "base_uri": "https://localhost:8080/",
          "height": 33
        },
        "outputId": "669bdd65-b5cf-499e-807f-f1a1006df55d"
      },
      "source": [
        "real_time_value2=1.37001342\n",
        "if(prediction2-real_time_value2<0.05 and real_time_value2>1):\n",
        "  print(\"Low rainfall\")"
      ],
      "execution_count": null,
      "outputs": [
        {
          "output_type": "stream",
          "text": [
            "Low rainfall\n"
          ],
          "name": "stdout"
        }
      ]
    },
    {
      "cell_type": "code",
      "metadata": {
        "id": "khNi7fp2ySFA",
        "colab_type": "code",
        "colab": {
          "base_uri": "https://localhost:8080/",
          "height": 33
        },
        "outputId": "78b00d1d-04a6-489e-8a97-0601d6d36954"
      },
      "source": [
        "!pip install beautifulsoup4"
      ],
      "execution_count": null,
      "outputs": [
        {
          "output_type": "stream",
          "text": [
            "Requirement already satisfied: beautifulsoup4 in /usr/local/lib/python3.6/dist-packages (4.6.3)\n"
          ],
          "name": "stdout"
        }
      ]
    },
    {
      "cell_type": "code",
      "metadata": {
        "id": "Q97jCK4Ze52X",
        "colab_type": "code",
        "colab": {}
      },
      "source": [
        "import requests\n",
        "from bs4 import BeautifulSoup"
      ],
      "execution_count": null,
      "outputs": []
    },
    {
      "cell_type": "code",
      "metadata": {
        "id": "T57FZkuGe7bD",
        "colab_type": "code",
        "colab": {
          "base_uri": "https://localhost:8080/",
          "height": 33
        },
        "outputId": "a91c858c-c2f2-408c-be06-d1367faf024a"
      },
      "source": [
        "page = requests.get(\"http://api.weatherstack.com/current?access_key=3797fc91211544aa3036930cf807f8b8&query=Kochi\")\n",
        "page"
      ],
      "execution_count": null,
      "outputs": [
        {
          "output_type": "execute_result",
          "data": {
            "text/plain": [
              "<Response [200]>"
            ]
          },
          "metadata": {
            "tags": []
          },
          "execution_count": 8
        }
      ]
    },
    {
      "cell_type": "code",
      "metadata": {
        "id": "LQeyxRAMfJjy",
        "colab_type": "code",
        "colab": {
          "base_uri": "https://localhost:8080/",
          "height": 33
        },
        "outputId": "011469f8-9761-4adb-8885-a2f3ca504f35"
      },
      "source": [
        "page.status_code"
      ],
      "execution_count": null,
      "outputs": [
        {
          "output_type": "execute_result",
          "data": {
            "text/plain": [
              "200"
            ]
          },
          "metadata": {
            "tags": []
          },
          "execution_count": 9
        }
      ]
    },
    {
      "cell_type": "code",
      "metadata": {
        "id": "K4Mby58ufMJY",
        "colab_type": "code",
        "colab": {
          "base_uri": "https://localhost:8080/",
          "height": 53
        },
        "outputId": "1e4d2e6f-ad83-4c52-c776-4732aca9432b"
      },
      "source": [
        "soup = BeautifulSoup(page.content, 'html.parser')\n",
        "soup"
      ],
      "execution_count": null,
      "outputs": [
        {
          "output_type": "execute_result",
          "data": {
            "text/plain": [
              "{\"request\":{\"type\":\"City\",\"query\":\"Kochi, India\",\"language\":\"en\",\"unit\":\"m\"},\"location\":{\"name\":\"Kochi\",\"country\":\"India\",\"region\":\"Kerala\",\"lat\":\"9.967\",\"lon\":\"76.233\",\"timezone_id\":\"Asia\\/Kolkata\",\"localtime\":\"2020-08-29 20:45\",\"localtime_epoch\":1598733900,\"utc_offset\":\"5.50\"},\"current\":{\"observation_time\":\"03:15 PM\",\"temperature\":28,\"weather_code\":143,\"weather_icons\":[\"https:\\/\\/assets.weatherstack.com\\/images\\/wsymbols01_png_64\\/wsymbol_0006_mist.png\"],\"weather_descriptions\":[\"Haze\"],\"wind_speed\":7,\"wind_degree\":240,\"wind_dir\":\"WSW\",\"pressure\":1008,\"precip\":0,\"humidity\":84,\"cloudcover\":50,\"feelslike\":33,\"uv_index\":1,\"visibility\":5,\"is_day\":\"no\"}}"
            ]
          },
          "metadata": {
            "tags": []
          },
          "execution_count": 10
        }
      ]
    },
    {
      "cell_type": "code",
      "metadata": {
        "id": "PSKWVUdNfge1",
        "colab_type": "code",
        "colab": {}
      },
      "source": [
        ""
      ],
      "execution_count": null,
      "outputs": []
    }
  ]
}